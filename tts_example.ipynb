{
 "cells": [
  {
   "cell_type": "code",
   "execution_count": null,
   "metadata": {},
   "outputs": [],
   "source": [
    "!pip install git+https://github.com/robinhad/ukrainian-tts.git"
   ]
  },
  {
   "cell_type": "code",
   "execution_count": null,
   "metadata": {},
   "outputs": [],
   "source": [
    "from ukrainian_tts.tts import TTS, Voices, Stress\n",
    "import IPython.display as ipd\n",
    "\n",
    "tts = TTS(device=\"cpu\", cache_dir=\"model\") # can try gpu, mps\n",
    "with open(\"test.wav\", mode=\"wb\") as file:\n",
    "    _, output_text = tts.tts(\"Привіт, як у тебе справи?\", Voices.Dmytro.value, Stress.Dictionary.value, file)\n",
    "print(\"Accented text:\", output_text)\n",
    "\n",
    "ipd.Audio(filename=\"test.wav\")"
   ]
  },
  {
   "cell_type": "code",
   "execution_count": null,
   "metadata": {},
   "outputs": [],
   "source": [
    "[voice for voice in Voices]"
   ]
  }
 ],
 "metadata": {
  "kernelspec": {
   "display_name": "Python 3",
   "language": "python",
   "name": "python3"
  },
  "language_info": {
   "codemirror_mode": {
    "name": "ipython",
    "version": 3
   },
   "file_extension": ".py",
   "mimetype": "text/x-python",
   "name": "python",
   "nbconvert_exporter": "python",
   "pygments_lexer": "ipython3",
   "version": "3.10.12"
  },
  "orig_nbformat": 4,
  "vscode": {
   "interpreter": {
    "hash": "deba62d825344d273fb083171c87f2b388c8298c18de18cc830c320ab0f305f4"
   }
  }
 },
 "nbformat": 4,
 "nbformat_minor": 2
}
